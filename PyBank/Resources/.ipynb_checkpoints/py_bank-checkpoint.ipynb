{
 "cells": [
  {
   "cell_type": "code",
   "execution_count": 3,
   "id": "d6f207d3",
   "metadata": {},
   "outputs": [
    {
     "name": "stdout",
     "output_type": "stream",
     "text": [
      ".\\budget_data.csv\n"
     ]
    }
   ],
   "source": [
    "#create file path\n",
    "import os\n",
    "\n",
    "#read csv file\n",
    "import csv\n",
    "\n",
    "csvpath = os.path.join(\".\", 'budget_data.csv')\n",
    "\n",
    "#output\n",
    "output_analysis = os.path.join(\"..\",  \"bank_budget_analysis.txt\")\n",
    "\n"
   ]
  },
  {
   "cell_type": "code",
   "execution_count": 6,
   "id": "421659db",
   "metadata": {},
   "outputs": [
    {
     "name": "stdout",
     "output_type": "stream",
     "text": [
      "Financial Analysis\n",
      "-------------------------------\n",
      "Total Months: 86\n",
      "Average Change: $-8311.11\n",
      "Greatest Increase in Profits: Aug-16 ($1862002)\n",
      "Greatest Decrease in Profits: Feb-14 ($-1825558)\n",
      "\n"
     ]
    }
   ],
   "source": [
    "total_months = 1\n",
    "total_net = 0\n",
    "\n",
    "net_change_list = []\n",
    "mth_changes = []\n",
    "greatest = [\"\", 0]\n",
    "lowest = [\"\", 1000000000000]\n",
    "\n",
    "# read the file\n",
    "with open(csvpath) as file:\n",
    "    reader = csv.reader(file, delimiter=',')\n",
    "   \n",
    "    #skip header\n",
    "    header = next(reader)\n",
    "    \n",
    "    first_row = next(reader)\n",
    "    \n",
    "    total_net += int(first_row[1]) \n",
    "    previous_net = int(first_row[1])\n",
    "    \n",
    "    for row in reader:\n",
    "        \n",
    "        total_months += 1\n",
    "        #sum func\n",
    "        total_net += int(row[1])   \n",
    "             \n",
    "        # net change\n",
    "        net_change = int(row[1]) - previous_net\n",
    "        previous_net = int(row[1])\n",
    "        net_change_list.append(net_change)\n",
    "        net_mthly_avg = sum(net_change_list) / len(net_change_list)     \n",
    "       \n",
    "    \n",
    "        #greatest increase\n",
    "        if(net_change > greatest[1]):\n",
    "            greatest[0] = row[0]\n",
    "            greatest[1] = net_change\n",
    "            \n",
    "         #greatest decrease\n",
    "        if(net_change < lowest[1]):\n",
    "            lowest[0] = row[0]\n",
    "            lowest [1] = net_change\n",
    "            \n",
    "            \n",
    "            \n",
    "\n",
    "\n",
    "\n",
    "# print(net_mthly_avg)\n",
    "# print(greatest)            \n",
    "# print(lowest) \n",
    "   \n",
    "with open(output_analysis, \"w\") as txt_file:\n",
    "    \n",
    "    bank_budget_analysis = (\n",
    "        f\"Financial Analysis\\n\"\n",
    "        \"-------------------------------\\n\"\n",
    "        f\"Total Months: {total_months}\\n\"\n",
    "        f\"Average Change: ${net_mthly_avg:.2f}\\n\"\n",
    "        f\"Greatest Increase in Profits: {greatest[0]} (${greatest[1]})\\n\"\n",
    "        f\"Greatest Decrease in Profits: {lowest[0]} (${lowest[1]})\\n\")\n",
    "\n",
    "    print(bank_budget_analysis)\n",
    "    \n",
    "    txt_file.write(bank_budget_analysis)\n",
    "    "
   ]
  },
  {
   "cell_type": "code",
   "execution_count": 108,
   "id": "06cdd183",
   "metadata": {},
   "outputs": [
    {
     "name": "stdout",
     "output_type": "stream",
     "text": [
      "Financial Analysis\n",
      "-------------------------------\n",
      "Total Months: 86 \n",
      "Total: $22564198 \n",
      "Average Change: $-8311.11 \n",
      "Greatest Increase in Profits: Aug-16  ($1862002) \n",
      "Greatest Decrease in Profits: Feb-14 ($-1825558) \n"
     ]
    }
   ],
   "source": []
  },
  {
   "cell_type": "code",
   "execution_count": 109,
   "id": "39397a28",
   "metadata": {},
   "outputs": [],
   "source": [
    "# Financial Analysis (format)\n",
    "# ----------------------------\n",
    "# Total Months: 86\n",
    "# Total: $22564198\n",
    "# Average Change: $-8311.11\n",
    "# Greatest Increase in Profits: Aug-16 ($1862002)\n",
    "# Greatest Decrease in Profits: Feb-14 ($-1825558)\n",
    "# In addition, your final script should both print the analysis to the terminal and export a text file with the results."
   ]
  },
  {
   "cell_type": "code",
   "execution_count": null,
   "id": "58e6939f",
   "metadata": {},
   "outputs": [],
   "source": []
  },
  {
   "cell_type": "code",
   "execution_count": 16,
   "id": "689409ff",
   "metadata": {},
   "outputs": [],
   "source": []
  },
  {
   "cell_type": "code",
   "execution_count": null,
   "id": "a537e03d",
   "metadata": {},
   "outputs": [],
   "source": []
  },
  {
   "cell_type": "code",
   "execution_count": null,
   "id": "25ae6b80",
   "metadata": {},
   "outputs": [],
   "source": []
  }
 ],
 "metadata": {
  "kernelspec": {
   "display_name": "Python 3 (ipykernel)",
   "language": "python",
   "name": "python3"
  },
  "language_info": {
   "codemirror_mode": {
    "name": "ipython",
    "version": 3
   },
   "file_extension": ".py",
   "mimetype": "text/x-python",
   "name": "python",
   "nbconvert_exporter": "python",
   "pygments_lexer": "ipython3",
   "version": "3.9.13"
  }
 },
 "nbformat": 4,
 "nbformat_minor": 5
}
