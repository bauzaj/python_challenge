{
 "cells": [
  {
   "cell_type": "code",
   "execution_count": 7,
   "id": "d01767e2",
   "metadata": {},
   "outputs": [
    {
     "name": "stdout",
     "output_type": "stream",
     "text": [
      "Election Results\n",
      "----------------------------\n",
      "Total Votes:369,711 \n",
      "----------------------------\n",
      "Charles Casper Stockham: 23.049% (85,213)\n",
      "Diana DeGette: 73.812% (272,892)\n",
      "Raymon Anthony Doane: 3.139% (11,606)\n",
      "----------------------------\n",
      "Winner: Diana DeGette\n",
      "----------------------------\n"
     ]
    }
   ],
   "source": [
    "import csv\n",
    "import os\n",
    "\n",
    "csvpath = os.path.join(\".\", \"Resources\", \"election_data.csv\")\n",
    "\n",
    "output_results = os.path.join(\".\", \"election_analysis.txt\")\n",
    "\n",
    "total_votes = 0\n",
    "\n",
    "#counters\n",
    "candidate_votes = {}\n",
    "candidate_option = []\n",
    "\n",
    "#winner\n",
    "winning_candidate = \"\"\n",
    "winning_count = 0\n",
    "\n",
    "with open(csvpath) as election:\n",
    "    reader = csv.reader(election)\n",
    "    \n",
    "    #skip header\n",
    "    header = next(reader)\n",
    "    #print(header)\n",
    "   \n",
    "  #loop through rows\n",
    "    for row in reader:\n",
    "        total_votes = total_votes +1\n",
    "#     print(total_votes) \n",
    "        \n",
    "    #telling where to find candidate name\n",
    "        candidate_name = row[2]\n",
    "        \n",
    "        if candidate_name not in candidate_option:\n",
    "           \n",
    "            #loop through and find candidate names\n",
    "            candidate_option.append(candidate_name)\n",
    "            \n",
    "            candidate_votes[candidate_name] = 0\n",
    "        candidate_votes[candidate_name] += 1   \n",
    "\n",
    "\n",
    "\n",
    "with open(output_results, \"w\") as txt_file:\n",
    "    \n",
    "    results = (\n",
    "        f\"Election Results\\n\"\n",
    "        f\"----------------------------\\n\" \n",
    "        f\"Total Votes:{total_votes:,} \\n\"\n",
    "        f\"----------------------------\\n\")\n",
    "    for candidate in candidate_votes:\n",
    "        votes = candidate_votes.get(candidate)\n",
    "        vote_percentage = votes / total_votes * 100\n",
    "        results = results + f'{candidate}: {vote_percentage:.3f}% ({votes:,})\\n'\n",
    "        if votes > winning_count:\n",
    "            winning_count = votes\n",
    "            winning_candidate = candidate\n",
    "    \n",
    "    results = results + (\n",
    "        f\"----------------------------\\n\"\n",
    "        f\"Winner: {winning_candidate}\\n\"\n",
    "        f\"----------------------------\")\n",
    "    \n",
    "    print(results)\n",
    "\n",
    "    txt_file.write(results)"
   ]
  },
  {
   "cell_type": "code",
   "execution_count": null,
   "id": "7bf9b4a7",
   "metadata": {},
   "outputs": [],
   "source": [
    "# Election Results (format)\n",
    "# -------------------------\n",
    "# Total Votes: 369711\n",
    "# -------------------------\n",
    "# Charles Casper Stockham: 23.049% (85213)\n",
    "# Diana DeGette: 73.812% (272892)\n",
    "# Raymon Anthony Doane: 3.139% (11606)\n",
    "# -------------------------\n",
    "# Winner: Diana DeGette\n",
    "# -------------------------"
   ]
  }
 ],
 "metadata": {
  "kernelspec": {
   "display_name": "Python 3 (ipykernel)",
   "language": "python",
   "name": "python3"
  },
  "language_info": {
   "codemirror_mode": {
    "name": "ipython",
    "version": 3
   },
   "file_extension": ".py",
   "mimetype": "text/x-python",
   "name": "python",
   "nbconvert_exporter": "python",
   "pygments_lexer": "ipython3",
   "version": "3.9.13"
  }
 },
 "nbformat": 4,
 "nbformat_minor": 5
}
